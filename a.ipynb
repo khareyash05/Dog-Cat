{
 "cells": [
  {
   "cell_type": "code",
   "execution_count": 38,
   "metadata": {},
   "outputs": [],
   "source": [
    "import tensorflow as tf\n",
    "from keras.preprocessing.image import ImageDataGenerator,array_to_img,img_to_array,load_img"
   ]
  },
  {
   "cell_type": "code",
   "execution_count": 39,
   "metadata": {},
   "outputs": [],
   "source": [
    "datagen = ImageDataGenerator(rotation_range=60,\n",
    "    width_shift_range=0.3,\n",
    "    height_shift_range=0.3,\n",
    "    shear_range=0.2,\n",
    "    zoom_range=0.3,\n",
    "    horizontal_flip=True,\n",
    "    vertical_flip= True\n",
    ")"
   ]
  },
  {
   "cell_type": "code",
   "execution_count": 40,
   "metadata": {},
   "outputs": [],
   "source": [
    "img = load_img('./dataset/single_prediction/cat_or_dog_2.jpg')"
   ]
  },
  {
   "cell_type": "code",
   "execution_count": 41,
   "metadata": {},
   "outputs": [
    {
     "data": {
      "text/plain": [
       "array([[[[239., 239., 239.],\n",
       "         [239., 239., 239.],\n",
       "         [239., 239., 239.],\n",
       "         ...,\n",
       "         [245., 245., 245.],\n",
       "         [245., 245., 245.],\n",
       "         [245., 245., 245.]],\n",
       "\n",
       "        [[239., 239., 239.],\n",
       "         [239., 239., 239.],\n",
       "         [239., 239., 239.],\n",
       "         ...,\n",
       "         [245., 245., 245.],\n",
       "         [245., 245., 245.],\n",
       "         [245., 245., 245.]],\n",
       "\n",
       "        [[239., 239., 239.],\n",
       "         [239., 239., 239.],\n",
       "         [239., 239., 239.],\n",
       "         ...,\n",
       "         [245., 245., 245.],\n",
       "         [245., 245., 245.],\n",
       "         [245., 245., 245.]],\n",
       "\n",
       "        ...,\n",
       "\n",
       "        [[240., 223., 215.],\n",
       "         [240., 223., 215.],\n",
       "         [239., 222., 214.],\n",
       "         ...,\n",
       "         [215., 183., 162.],\n",
       "         [217., 182., 162.],\n",
       "         [217., 182., 162.]],\n",
       "\n",
       "        [[241., 224., 216.],\n",
       "         [240., 223., 215.],\n",
       "         [240., 223., 215.],\n",
       "         ...,\n",
       "         [218., 183., 163.],\n",
       "         [218., 183., 163.],\n",
       "         [219., 184., 164.]],\n",
       "\n",
       "        [[240., 223., 215.],\n",
       "         [239., 222., 214.],\n",
       "         [238., 221., 213.],\n",
       "         ...,\n",
       "         [221., 186., 167.],\n",
       "         [221., 186., 167.],\n",
       "         [221., 186., 167.]]]], dtype=float32)"
      ]
     },
     "execution_count": 41,
     "metadata": {},
     "output_type": "execute_result"
    }
   ],
   "source": [
    "x = img_to_array(img)\n",
    "x = x.reshape((1,)+x.shape)\n",
    "x"
   ]
  },
  {
   "cell_type": "code",
   "execution_count": 42,
   "metadata": {},
   "outputs": [],
   "source": [
    "i =0\n",
    "for batch in datagen.flow(x,batch_size=1,save_to_dir='./dataset/preview',save_prefix='cat',save_format='jpeg'):\n",
    "    i+=1\n",
    "    if i>50 :\n",
    "        break\n"
   ]
  }
 ],
 "metadata": {
  "kernelspec": {
   "display_name": "Python 3.9.12 ('tf-gpu')",
   "language": "python",
   "name": "python3"
  },
  "language_info": {
   "codemirror_mode": {
    "name": "ipython",
    "version": 3
   },
   "file_extension": ".py",
   "mimetype": "text/x-python",
   "name": "python",
   "nbconvert_exporter": "python",
   "pygments_lexer": "ipython3",
   "version": "3.9.12"
  },
  "orig_nbformat": 4,
  "vscode": {
   "interpreter": {
    "hash": "9dc6fe3c0647c88d90a7f8b3bd4f2ae3f37f883cf89f4bfe059b22d4885ce559"
   }
  }
 },
 "nbformat": 4,
 "nbformat_minor": 2
}
