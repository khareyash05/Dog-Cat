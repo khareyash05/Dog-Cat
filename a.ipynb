{
 "cells": [
  {
   "cell_type": "code",
   "execution_count": 28,
   "metadata": {},
   "outputs": [],
   "source": [
    "import tensorflow as tf\n",
    "from keras.preprocessing.image import ImageDataGenerator,array_to_img,img_to_array,load_img"
   ]
  },
  {
   "cell_type": "code",
   "execution_count": 29,
   "metadata": {},
   "outputs": [],
   "source": [
    "datagen = ImageDataGenerator(rotation_range=60,\n",
    "    width_shift_range=0.3,\n",
    "    height_shift_range=0.3,\n",
    "    shear_range=0.2,\n",
    "    zoom_range=0.3,\n",
    "    horizontal_flip=True,\n",
    "    vertical_flip= True\n",
    ")"
   ]
  },
  {
   "cell_type": "code",
   "execution_count": 30,
   "metadata": {},
   "outputs": [],
   "source": [
    "img = load_img('./dataset/single_prediction/cat_or_dog_1.jpg')"
   ]
  },
  {
   "cell_type": "code",
   "execution_count": 31,
   "metadata": {},
   "outputs": [
    {
     "data": {
      "text/plain": [
       "array([[[[ 57.,  60.,   7.],\n",
       "         [ 57.,  60.,   7.],\n",
       "         [ 57.,  60.,   7.],\n",
       "         ...,\n",
       "         [138., 148.,  77.],\n",
       "         [138., 148.,  77.],\n",
       "         [138., 148.,  77.]],\n",
       "\n",
       "        [[ 57.,  60.,   7.],\n",
       "         [ 57.,  60.,   7.],\n",
       "         [ 56.,  59.,   6.],\n",
       "         ...,\n",
       "         [138., 148.,  77.],\n",
       "         [138., 148.,  77.],\n",
       "         [138., 148.,  77.]],\n",
       "\n",
       "        [[ 54.,  58.,   7.],\n",
       "         [ 54.,  58.,   7.],\n",
       "         [ 54.,  58.,   7.],\n",
       "         ...,\n",
       "         [138., 148.,  77.],\n",
       "         [138., 148.,  77.],\n",
       "         [138., 148.,  77.]],\n",
       "\n",
       "        ...,\n",
       "\n",
       "        [[ 59.,  62.,  15.],\n",
       "         [ 59.,  62.,  15.],\n",
       "         [ 58.,  61.,  14.],\n",
       "         ...,\n",
       "         [230., 200., 172.],\n",
       "         [230., 200., 174.],\n",
       "         [230., 200., 174.]],\n",
       "\n",
       "        [[ 59.,  62.,  15.],\n",
       "         [ 59.,  62.,  15.],\n",
       "         [ 59.,  62.,  15.],\n",
       "         ...,\n",
       "         [230., 200., 174.],\n",
       "         [228., 201., 174.],\n",
       "         [228., 200., 176.]],\n",
       "\n",
       "        [[ 59.,  62.,  15.],\n",
       "         [ 59.,  62.,  15.],\n",
       "         [ 59.,  62.,  15.],\n",
       "         ...,\n",
       "         [231., 201., 175.],\n",
       "         [228., 200., 176.],\n",
       "         [228., 200., 176.]]]], dtype=float32)"
      ]
     },
     "execution_count": 31,
     "metadata": {},
     "output_type": "execute_result"
    }
   ],
   "source": [
    "x = img_to_array(img)\n",
    "x = x.reshape((1,)+x.shape)\n",
    "x"
   ]
  },
  {
   "cell_type": "code",
   "execution_count": 32,
   "metadata": {},
   "outputs": [],
   "source": [
    "i =0\n",
    "for batch in datagen.flow(x,batch_size=1,save_to_dir='./dataset/preview',save_prefix='dog',save_format='jpeg'):\n",
    "    i+=1\n",
    "    if i>50 :\n",
    "        break\n"
   ]
  }
 ],
 "metadata": {
  "kernelspec": {
   "display_name": "Python 3.9.12 ('tf-gpu')",
   "language": "python",
   "name": "python3"
  },
  "language_info": {
   "codemirror_mode": {
    "name": "ipython",
    "version": 3
   },
   "file_extension": ".py",
   "mimetype": "text/x-python",
   "name": "python",
   "nbconvert_exporter": "python",
   "pygments_lexer": "ipython3",
   "version": "3.9.12"
  },
  "orig_nbformat": 4,
  "vscode": {
   "interpreter": {
    "hash": "9dc6fe3c0647c88d90a7f8b3bd4f2ae3f37f883cf89f4bfe059b22d4885ce559"
   }
  }
 },
 "nbformat": 4,
 "nbformat_minor": 2
}
