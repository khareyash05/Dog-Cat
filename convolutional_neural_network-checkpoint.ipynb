{
 "cells": [
  {
   "cell_type": "code",
   "execution_count": 1,
   "metadata": {
    "colab": {},
    "colab_type": "code",
    "id": "sCV30xyVhFbE"
   },
   "outputs": [],
   "source": [
    "import tensorflow as tf\n",
    "from keras.preprocessing.image import ImageDataGenerator"
   ]
  },
  {
   "cell_type": "code",
   "execution_count": 2,
   "metadata": {
    "colab": {},
    "colab_type": "code",
    "id": "FIleuCAjoFD8"
   },
   "outputs": [
    {
     "data": {
      "text/plain": [
       "'2.6.0'"
      ]
     },
     "execution_count": 2,
     "metadata": {},
     "output_type": "execute_result"
    }
   ],
   "source": [
    "tf.__version__"
   ]
  },
  {
   "cell_type": "code",
   "execution_count": 3,
   "metadata": {
    "colab": {},
    "colab_type": "code",
    "id": "0koUcJMJpEBD"
   },
   "outputs": [
    {
     "name": "stdout",
     "output_type": "stream",
     "text": [
      "Found 800 images belonging to 2 classes.\n"
     ]
    }
   ],
   "source": [
    "train_datagen = ImageDataGenerator(rescale = 1./255)\n",
    "training_set = train_datagen.flow_from_directory('dataset/training_set',\n",
    "                                                 target_size = (64, 64),\n",
    "                                                 batch_size = 128,\n",
    "                                                 class_mode = 'binary')"
   ]
  },
  {
   "cell_type": "code",
   "execution_count": 4,
   "metadata": {
    "colab": {},
    "colab_type": "code",
    "id": "SH4WzfOhpKc3"
   },
   "outputs": [
    {
     "name": "stdout",
     "output_type": "stream",
     "text": [
      "Found 200 images belonging to 2 classes.\n"
     ]
    }
   ],
   "source": [
    "test_datagen = ImageDataGenerator(rescale = 1./255)\n",
    "test_set = test_datagen.flow_from_directory('dataset/test_set',\n",
    "                                            target_size = (64, 64),\n",
    "                                            batch_size = 64,\n",
    "                                            class_mode = 'binary')"
   ]
  },
  {
   "cell_type": "code",
   "execution_count": 5,
   "metadata": {
    "colab": {},
    "colab_type": "code",
    "id": "SAUt4UMPlhLS"
   },
   "outputs": [],
   "source": [
    "cnn = tf.keras.models.Sequential()"
   ]
  },
  {
   "cell_type": "code",
   "execution_count": 6,
   "metadata": {
    "colab": {},
    "colab_type": "code",
    "id": "XPzPrMckl-hV"
   },
   "outputs": [],
   "source": [
    "cnn.add(tf.keras.layers.Conv2D(filters=32, kernel_size=3, activation='relu', input_shape=[64, 64, 3]))"
   ]
  },
  {
   "cell_type": "code",
   "execution_count": 7,
   "metadata": {
    "colab": {},
    "colab_type": "code",
    "id": "ncpqPl69mOac"
   },
   "outputs": [],
   "source": [
    "cnn.add(tf.keras.layers.MaxPool2D(pool_size=2, strides=2))"
   ]
  },
  {
   "cell_type": "code",
   "execution_count": 8,
   "metadata": {
    "colab": {},
    "colab_type": "code",
    "id": "i_-FZjn_m8gk"
   },
   "outputs": [],
   "source": [
    "cnn.add(tf.keras.layers.Conv2D(filters=32, kernel_size=3, activation='relu'))\n",
    "cnn.add(tf.keras.layers.MaxPool2D(pool_size=2, strides=2))"
   ]
  },
  {
   "cell_type": "code",
   "execution_count": 9,
   "metadata": {
    "colab": {},
    "colab_type": "code",
    "id": "6AZeOGCvnNZn"
   },
   "outputs": [],
   "source": [
    "cnn.add(tf.keras.layers.Flatten())"
   ]
  },
  {
   "cell_type": "code",
   "execution_count": 10,
   "metadata": {
    "colab": {},
    "colab_type": "code",
    "id": "8GtmUlLd26Nq"
   },
   "outputs": [],
   "source": [
    "cnn.add(tf.keras.layers.Dense(units=128, activation='relu'))"
   ]
  },
  {
   "cell_type": "code",
   "execution_count": 11,
   "metadata": {
    "colab": {},
    "colab_type": "code",
    "id": "1p_Zj1Mc3Ko_"
   },
   "outputs": [],
   "source": [
    "cnn.add(tf.keras.layers.Dense(units=1, activation='sigmoid'))"
   ]
  },
  {
   "cell_type": "code",
   "execution_count": 13,
   "metadata": {
    "colab": {},
    "colab_type": "code",
    "id": "NALksrNQpUlJ"
   },
   "outputs": [],
   "source": [
    "cnn.compile(optimizer = 'adam', loss = 'binary_crossentropy', metrics = ['accuracy'])"
   ]
  },
  {
   "cell_type": "code",
   "execution_count": 14,
   "metadata": {},
   "outputs": [
    {
     "name": "stdout",
     "output_type": "stream",
     "text": [
      "Model: \"sequential\"\n",
      "_________________________________________________________________\n",
      "Layer (type)                 Output Shape              Param #   \n",
      "=================================================================\n",
      "conv2d (Conv2D)              (None, 62, 62, 32)        896       \n",
      "_________________________________________________________________\n",
      "max_pooling2d (MaxPooling2D) (None, 31, 31, 32)        0         \n",
      "_________________________________________________________________\n",
      "conv2d_1 (Conv2D)            (None, 29, 29, 32)        9248      \n",
      "_________________________________________________________________\n",
      "max_pooling2d_1 (MaxPooling2 (None, 14, 14, 32)        0         \n",
      "_________________________________________________________________\n",
      "flatten (Flatten)            (None, 6272)              0         \n",
      "_________________________________________________________________\n",
      "dense (Dense)                (None, 64)                401472    \n",
      "_________________________________________________________________\n",
      "dense_1 (Dense)              (None, 1)                 65        \n",
      "_________________________________________________________________\n",
      "batch_normalization (BatchNo (None, 1)                 4         \n",
      "=================================================================\n",
      "Total params: 411,685\n",
      "Trainable params: 411,683\n",
      "Non-trainable params: 2\n",
      "_________________________________________________________________\n"
     ]
    }
   ],
   "source": [
    "cnn.summary()"
   ]
  },
  {
   "cell_type": "code",
   "execution_count": 15,
   "metadata": {
    "colab": {},
    "colab_type": "code",
    "id": "XUj1W4PJptta"
   },
   "outputs": [
    {
     "name": "stdout",
     "output_type": "stream",
     "text": [
      "Epoch 1/25\n",
      "7/7 [==============================] - 13s 2s/step - loss: 4.5852 - accuracy: 0.4925 - val_loss: 1.0502 - val_accuracy: 0.5000\n",
      "Epoch 2/25\n",
      "7/7 [==============================] - 5s 739ms/step - loss: 2.8376 - accuracy: 0.5138 - val_loss: 1.5203 - val_accuracy: 0.5000\n",
      "Epoch 3/25\n",
      "7/7 [==============================] - 5s 708ms/step - loss: 2.3357 - accuracy: 0.5000 - val_loss: 1.3385 - val_accuracy: 0.5000\n",
      "Epoch 4/25\n",
      "7/7 [==============================] - 5s 783ms/step - loss: 2.4831 - accuracy: 0.5113 - val_loss: 1.1161 - val_accuracy: 0.5100\n",
      "Epoch 5/25\n",
      "7/7 [==============================] - 5s 704ms/step - loss: 1.7987 - accuracy: 0.5000 - val_loss: 1.1419 - val_accuracy: 0.5000\n",
      "Epoch 6/25\n",
      "7/7 [==============================] - 5s 712ms/step - loss: 1.7674 - accuracy: 0.5000 - val_loss: 1.0684 - val_accuracy: 0.5000\n",
      "Epoch 7/25\n",
      "7/7 [==============================] - 5s 700ms/step - loss: 1.6668 - accuracy: 0.5000 - val_loss: 1.0104 - val_accuracy: 0.5000\n",
      "Epoch 8/25\n",
      "7/7 [==============================] - 5s 692ms/step - loss: 1.5587 - accuracy: 0.5000 - val_loss: 0.9621 - val_accuracy: 0.5000\n",
      "Epoch 9/25\n",
      "7/7 [==============================] - 5s 676ms/step - loss: 1.3728 - accuracy: 0.5000 - val_loss: 0.8477 - val_accuracy: 0.5200\n",
      "Epoch 10/25\n",
      "7/7 [==============================] - 5s 680ms/step - loss: 1.3414 - accuracy: 0.5113 - val_loss: 0.8882 - val_accuracy: 0.5000\n",
      "Epoch 11/25\n",
      "7/7 [==============================] - 5s 760ms/step - loss: 1.3451 - accuracy: 0.5000 - val_loss: 0.8595 - val_accuracy: 0.5000\n",
      "Epoch 12/25\n",
      "7/7 [==============================] - 5s 755ms/step - loss: 1.3098 - accuracy: 0.5000 - val_loss: 0.8319 - val_accuracy: 0.5000\n",
      "Epoch 13/25\n",
      "7/7 [==============================] - 5s 730ms/step - loss: 1.1743 - accuracy: 0.5000 - val_loss: 0.9417 - val_accuracy: 0.5550\n",
      "Epoch 14/25\n",
      "7/7 [==============================] - 5s 695ms/step - loss: 1.8006 - accuracy: 0.5225 - val_loss: 0.8153 - val_accuracy: 0.5400\n",
      "Epoch 15/25\n",
      "7/7 [==============================] - 6s 881ms/step - loss: 1.0451 - accuracy: 0.5000 - val_loss: 0.7700 - val_accuracy: 0.5100\n",
      "Epoch 16/25\n",
      "7/7 [==============================] - 5s 817ms/step - loss: 1.0856 - accuracy: 0.5000 - val_loss: 0.7538 - val_accuracy: 0.5100\n",
      "Epoch 17/25\n",
      "7/7 [==============================] - 5s 718ms/step - loss: 1.0255 - accuracy: 0.5000 - val_loss: 0.9935 - val_accuracy: 0.5350\n",
      "Epoch 18/25\n",
      "7/7 [==============================] - 5s 808ms/step - loss: 1.2960 - accuracy: 0.5000 - val_loss: 0.9721 - val_accuracy: 0.5750\n",
      "Epoch 19/25\n",
      "7/7 [==============================] - 5s 623ms/step - loss: 1.1438 - accuracy: 0.5000 - val_loss: 0.7908 - val_accuracy: 0.5250\n",
      "Epoch 20/25\n",
      "7/7 [==============================] - 4s 628ms/step - loss: 1.0649 - accuracy: 0.5000 - val_loss: 0.9127 - val_accuracy: 0.5200\n",
      "Epoch 21/25\n",
      "7/7 [==============================] - 4s 626ms/step - loss: 1.0393 - accuracy: 0.5000 - val_loss: 0.8993 - val_accuracy: 0.5350\n",
      "Epoch 22/25\n",
      "7/7 [==============================] - 4s 621ms/step - loss: 1.1965 - accuracy: 0.5000 - val_loss: 0.9425 - val_accuracy: 0.5650\n",
      "Epoch 23/25\n",
      "7/7 [==============================] - 4s 623ms/step - loss: 1.0525 - accuracy: 0.5000 - val_loss: 0.7118 - val_accuracy: 0.5000\n",
      "Epoch 24/25\n",
      "7/7 [==============================] - 5s 646ms/step - loss: 1.1790 - accuracy: 0.5000 - val_loss: 0.7077 - val_accuracy: 0.5000\n",
      "Epoch 25/25\n",
      "7/7 [==============================] - 5s 631ms/step - loss: 1.2254 - accuracy: 0.5000 - val_loss: 0.7037 - val_accuracy: 0.5000\n"
     ]
    },
    {
     "data": {
      "text/plain": [
       "<keras.callbacks.History at 0x158001453a0>"
      ]
     },
     "execution_count": 15,
     "metadata": {},
     "output_type": "execute_result"
    }
   ],
   "source": [
    "cnn.fit(x = training_set,\n",
    "        validation_data = test_set,\n",
    "        epochs = 25)"
   ]
  }
 ],
 "metadata": {
  "colab": {
   "collapsed_sections": [],
   "name": "convolutional_neural_network.ipynb",
   "provenance": [],
   "toc_visible": true
  },
  "kernelspec": {
   "display_name": "Python 3.9.12 ('tf-gpu')",
   "language": "python",
   "name": "python3"
  },
  "language_info": {
   "codemirror_mode": {
    "name": "ipython",
    "version": 3
   },
   "file_extension": ".py",
   "mimetype": "text/x-python",
   "name": "python",
   "nbconvert_exporter": "python",
   "pygments_lexer": "ipython3",
   "version": "3.9.12"
  },
  "vscode": {
   "interpreter": {
    "hash": "9dc6fe3c0647c88d90a7f8b3bd4f2ae3f37f883cf89f4bfe059b22d4885ce559"
   }
  }
 },
 "nbformat": 4,
 "nbformat_minor": 1
}
